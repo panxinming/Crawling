{
 "cells": [
  {
   "cell_type": "code",
   "execution_count": 4,
   "id": "cf27370a",
   "metadata": {},
   "outputs": [
    {
     "name": "stdout",
     "output_type": "stream",
     "text": [
      "{\"errno\":0,\"data\":[{\"k\":\"porn\",\"v\":\"n. \\u8272\\u60c5\\u4f5c\\u54c1\"},{\"k\":\"porno\",\"v\":\"n. pornographer [pornography] \\u8272\\u60c5\\u4e66\\u520a\"},{\"k\":\"porny\",\"v\":\"adj. \\u8272\\u60c5\\u7684\\uff0c\\u8272\\u60c5\\u4f5c\\u54c1\\u7684\"},{\"k\":\"porn pub\",\"v\":\"abbr. pornographic publication(s) \\u8272\\u60c5\\u51fa\\u7248\\u7269; pornograp\"},{\"k\":\"pornstar\",\"v\":\"n. \\u8272\\u60c5\\u5f71\\u661f\"}]}\n"
     ]
    }
   ],
   "source": [
    "import requests\n",
    "\n",
    "url = \"https://fanyi.baidu.com/sug\"\n",
    "\n",
    "data = {\n",
    "    \"kw\": \"porn\"\n",
    "}\n",
    "\n",
    "resp = requests.post(url, data = data)\n",
    "\n",
    "# 此时返回给我们的是json文件.(这里是文本字符串，得转变成json)\n",
    "print(resp.text)\n"
   ]
  },
  {
   "cell_type": "code",
   "execution_count": 5,
   "id": "0ea4525a",
   "metadata": {},
   "outputs": [
    {
     "name": "stdout",
     "output_type": "stream",
     "text": [
      "{'errno': 0, 'data': [{'k': 'porn', 'v': 'n. 色情作品'}, {'k': 'porno', 'v': 'n. pornographer [pornography] 色情书刊'}, {'k': 'porny', 'v': 'adj. 色情的，色情作品的'}, {'k': 'porn pub', 'v': 'abbr. pornographic publication(s) 色情出版物; pornograp'}, {'k': 'pornstar', 'v': 'n. 色情影星'}]}\n"
     ]
    }
   ],
   "source": [
    "print(resp.json())"
   ]
  },
  {
   "cell_type": "code",
   "execution_count": null,
   "id": "51ae6c62",
   "metadata": {},
   "outputs": [],
   "source": []
  }
 ],
 "metadata": {
  "kernelspec": {
   "display_name": "Python 3 (ipykernel)",
   "language": "python",
   "name": "python3"
  },
  "language_info": {
   "codemirror_mode": {
    "name": "ipython",
    "version": 3
   },
   "file_extension": ".py",
   "mimetype": "text/x-python",
   "name": "python",
   "nbconvert_exporter": "python",
   "pygments_lexer": "ipython3",
   "version": "3.9.12"
  },
  "toc": {
   "base_numbering": 1,
   "nav_menu": {},
   "number_sections": true,
   "sideBar": true,
   "skip_h1_title": false,
   "title_cell": "Table of Contents",
   "title_sidebar": "Contents",
   "toc_cell": false,
   "toc_position": {},
   "toc_section_display": true,
   "toc_window_display": false
  },
  "varInspector": {
   "cols": {
    "lenName": 16,
    "lenType": 16,
    "lenVar": 40
   },
   "kernels_config": {
    "python": {
     "delete_cmd_postfix": "",
     "delete_cmd_prefix": "del ",
     "library": "var_list.py",
     "varRefreshCmd": "print(var_dic_list())"
    },
    "r": {
     "delete_cmd_postfix": ") ",
     "delete_cmd_prefix": "rm(",
     "library": "var_list.r",
     "varRefreshCmd": "cat(var_dic_list()) "
    }
   },
   "types_to_exclude": [
    "module",
    "function",
    "builtin_function_or_method",
    "instance",
    "_Feature"
   ],
   "window_display": false
  }
 },
 "nbformat": 4,
 "nbformat_minor": 5
}
